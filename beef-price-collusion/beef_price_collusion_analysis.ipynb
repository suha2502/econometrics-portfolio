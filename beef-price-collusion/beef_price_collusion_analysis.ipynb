{
 "cells": [
  {
   "cell_type": "code",
   "execution_count": null,
   "id": "363d883c",
   "metadata": {},
   "outputs": [],
   "source": [
    "!git clone https://github.com/suha2502/econometrics-portfolio.git\n",
    "%cd econometrics-portfolio/beef-price-collusion\n",
    "!python beef_price_collusion_analysis.py"
   ]
  }
 ],
 "metadata": {
  "language_info": {
   "name": "python"
  }
 },
 "nbformat": 4,
 "nbformat_minor": 5
}
